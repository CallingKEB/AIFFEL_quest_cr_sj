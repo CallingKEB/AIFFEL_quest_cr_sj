{
  "nbformat": 4,
  "nbformat_minor": 0,
  "metadata": {
    "colab": {
      "provenance": [],
      "authorship_tag": "ABX9TyNEhKQ8bbw2kts03hdRmRCz",
      "include_colab_link": true
    },
    "kernelspec": {
      "name": "python3",
      "display_name": "Python 3"
    },
    "language_info": {
      "name": "python"
    }
  },
  "cells": [
    {
      "cell_type": "markdown",
      "metadata": {
        "id": "view-in-github",
        "colab_type": "text"
      },
      "source": [
        "<a href=\"https://colab.research.google.com/github/sk643666/AIFFEL_quest_cr/blob/master/Untitled5.ipynb\" target=\"_parent\"><img src=\"https://colab.research.google.com/assets/colab-badge.svg\" alt=\"Open In Colab\"/></a>"
      ]
    },
    {
      "cell_type": "code",
      "execution_count": null,
      "metadata": {
        "id": "NeRlxgtCNscH"
      },
      "outputs": [],
      "source": [
        "import tensorflow as tf\n",
        "from tensorflow.keras.models import Sequential\n",
        "from tensorflow.keras.layers import Conv2D, MaxPooling2D, Flatten, Dense, Dropout\n",
        "from tensorflow.keras.datasets import cifar10\n",
        "from tensorflow.keras.utils import to_categorical\n",
        "import matplotlib.pyplot as plt\n",
        "\n",
        "# 데이터 로드 및 전처리\n",
        "(x_train, y_train), (x_test, y_test) = cifar10.load_data()\n",
        "x_train, x_test = x_train / 255.0, x_test / 255.0  # 정규화\n",
        "y_train, y_test = to_categorical(y_train), to_categorical(y_test)\n",
        "\n",
        "# 실험 세팅 (활성화 함수와 드롭아웃 비율을 설정)\n",
        "activations = ['relu', 'tanh', 'sigmoid']  # 실험할 Activation 함수들\n",
        "dropouts = [0.0, 0.3, 0.5]  # 실험할 Dropout 비율들\n",
        "\n",
        "# 모델 정의 함수\n",
        "def create_model(activation='relu', dropout_rate=0.0):\n",
        "    model = Sequential([\n",
        "        Conv2D(32, (3, 3), activation=activation, input_shape=(32, 32, 3)),\n",
        "        MaxPooling2D((2, 2)),\n",
        "        Dropout(dropout_rate),\n",
        "\n",
        "        Conv2D(64, (3, 3), activation=activation),\n",
        "        MaxPooling2D((2, 2)),\n",
        "        Dropout(dropout_rate),\n",
        "\n",
        "        Flatten(),\n",
        "        Dense(64, activation=activation),\n",
        "        Dropout(dropout_rate),\n",
        "        Dense(10, activation='softmax')\n",
        "    ])\n",
        "\n",
        "    model.compile(optimizer='adam',\n",
        "                  loss='categorical_crossentropy',\n",
        "                  metrics=['accuracy'])\n",
        "    return model\n",
        "\n",
        "# 실험 결과 저장 리스트\n",
        "results = []\n",
        "\n",
        "# 실험 수행\n",
        "for activation in activations:\n",
        "    for dropout_rate in dropouts:\n",
        "        print(f\"\\n### Activation: {activation}, Dropout Rate: {dropout_rate} ###\")\n",
        "\n",
        "        model = create_model(activation=activation, dropout_rate=dropout_rate)\n",
        "\n",
        "        # 학습 모니터링을 위해 history 객체 저장\n",
        "        history = model.fit(x_train, y_train, epochs=10, batch_size=64,\n",
        "                            validation_data=(x_test, y_test), verbose=0)\n",
        "\n",
        "        # 결과 저장\n",
        "        results.append({\n",
        "            'activation': activation,\n",
        "            'dropout_rate': dropout_rate,\n",
        "            'accuracy': history.history['accuracy'],\n",
        "            'val_accuracy': history.history['val_accuracy']\n",
        "        })\n",
        "\n",
        "# 결과 시각화\n",
        "plt.figure(figsize=(12, 8))\n",
        "for result in results:\n",
        "    plt.plot(result['val_accuracy'], label=f\"Activation: {result['activation']}, Dropout: {result['dropout_rate']}\")\n",
        "plt.title(\"Validation Accuracy by Activation Function and Dropout Rate\")\n",
        "plt.xlabel(\"Epochs\")\n",
        "plt.ylabel(\"Validation Accuracy\")\n",
        "plt.legend()\n",
        "plt.show()\n"
      ]
    }
  ]
}