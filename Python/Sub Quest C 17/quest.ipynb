import tensorflow as tf
from tensorflow.keras.models import Sequential
from tensorflow.keras.layers import Conv2D, MaxPooling2D, Flatten, Dense, Dropout
from tensorflow.keras.datasets import cifar10
from tensorflow.keras.utils import to_categorical
import matplotlib.pyplot as plt

# 데이터 로드 및 전처리
(x_train, y_train), (x_test, y_test) = cifar10.load_data()
x_train, x_test = x_train / 255.0, x_test / 255.0  # 정규화
y_train, y_test = to_categorical(y_train), to_categorical(y_test)

# 실험 세팅 (활성화 함수와 드롭아웃 비율을 설정)
activations = ['relu', 'tanh', 'sigmoid']  # 실험할 Activation 함수들
dropouts = [0.0, 0.3, 0.5]  # 실험할 Dropout 비율들

# 모델 정의 함수
def create_model(activation='relu', dropout_rate=0.0):
    model = Sequential([
        Conv2D(32, (3, 3), activation=activation, input_shape=(32, 32, 3)),
        MaxPooling2D((2, 2)),
        Dropout(dropout_rate),
        
        Conv2D(64, (3, 3), activation=activation),
        MaxPooling2D((2, 2)),
        Dropout(dropout_rate),
        
        Flatten(),
        Dense(64, activation=activation),
        Dropout(dropout_rate),
        Dense(10, activation='softmax')
    ])
    
    model.compile(optimizer='adam',
                  loss='categorical_crossentropy',
                  metrics=['accuracy'])
    return model

# 실험 결과 저장 리스트
results = []

# 실험 수행
for activation in activations:
    for dropout_rate in dropouts:
        print(f"\n### Activation: {activation}, Dropout Rate: {dropout_rate} ###")
        
        model = create_model(activation=activation, dropout_rate=dropout_rate)
        
        # 학습 모니터링을 위해 history 객체 저장
        history = model.fit(x_train, y_train, epochs=10, batch_size=64, 
                            validation_data=(x_test, y_test), verbose=0)
        
        # 결과 저장
        results.append({
            'activation': activation,
            'dropout_rate': dropout_rate,
            'accuracy': history.history['accuracy'],
            'val_accuracy': history.history['val_accuracy']
        })

# 결과 시각화
plt.figure(figsize=(12, 8))
for result in results:
    plt.plot(result['val_accuracy'], label=f"Activation: {result['activation']}, Dropout: {result['dropout_rate']}")
plt.title("Validation Accuracy by Activation Function and Dropout Rate")
plt.xlabel("Epochs")
plt.ylabel("Validation Accuracy")
plt.legend()
plt.show()
