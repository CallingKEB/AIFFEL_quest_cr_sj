class Square:
    def __init__(self):
        self.square = int(input('넓이를 구하고 싶은 사각형의 숫자를 써주세요.\n 1.직사각형 2.평행사변형 3.사다리꼴 \n >>>'))

        if self.square == 1:
            print('직사각형 함수는 rect()입니다.')

        elif self.square == 2:
            print('평행사변형 함수는 par()입니다.')
        
        elif self.square == 3:
            print('사다리꼴 함수는 trape()입니다.')
        
        else:
            print('1, 2, 3 중에서 다시 입력해주세요')

    def rect(self):
        width, vertical = map(int, input('가로, 세로를 입력하세요. 예시 : 가로,세로\n >>>').split(','))
        area = width * vertical
        result = '직사각형의 넓이는 : ' + str(area)
        return result

    def par(self):
        width, vertical = map(int, input('밑변, 높이를 입력하세요. 예시 : 밑변,높이\n >>>').split(','))
        area = width * vertical
        result = '평행사변형의 넓이는 : ' + str(area)
        return result

    def trape(self):
        up, down, vertical = map(int, input('윗변, 밑변, 높이를 입력하세요. 예시 : 윗변,밑변,높이\n >>>').split(','))
        area = (up+down)*vertical/2
        result = '사다리꼴의 넓이는 : ' + str(area)
        return result

a = Square()

# 문제 2-4. 추가 주문       
# 추가 음료의 온도를 입력받고, 가격 리스트와 주문 리스트, 합계 금액을 업데이트합니다. 

def menu_select(self):
    self.order_menu = []
    self.order_price = []

    n = 0
    while n < 1 or len(menu) < n:
        n = int(input("음료를 번호를 입력하세요 : "))

        if 1 <= n & n <= len(menu):
            self.order_price.append(self.price[n-1])
            self.price_sum = self.price[n-1]
      
        else:  
            print("없는 메뉴입니다. 다시 주문해 주세요.")

    t = 0  # 기본값을 넣어주고
    while t != 1 and t != 2:
        t= int(input("HOT 음료는 1을, ICE 음료는 2를 입력하세요 : "))
        if t == 1:
            self.temp = 'HOT'
        elif t == 2:
            self.temp = 'ICE' 
        else:    
            print("1과 2 중 하나를 입력하세요.\n")  

    self.order_menu.append(self.temp + ' ' + self.menu[n-1])
    print(self.temp, self.menu[n-1], ' : ', self.price[n-1], '원')

    while n != 0:
        print()
        n = int(input("추가 주문은 음료 번호를, 지불은 0을 누르세요 : "))
        if n > 0 and n < len(self.menu) + 1:  
            t = 0 
            while t != 1 and t != 2: 
                t= int(input("HOT 음료는 1을, ICE 음료는 2를 입력하세요 : "))
                if t == 1:
                    self.temp = 'HOT'
                elif t == 2:
                    self.temp = 'ICE' 
                else:    
                    print("1과 2 중 하나를 입력하세요.\n")
            self.order_price.append(self.price[n-1])          
            self.order_menu.append(self.temp + ' ' + self.menu[n-1])
            print('추가 주문 음료', self.temp, self.menu[n-1], ':', self.price[n-1], '원\n', '합계 : ', sum(self.order_price), '원')
        else :
            if n == 0 :
                print("주문이 완료되었습니다.")
                print(self.order_menu, self.order_price)
            else :
                print("없는 메뉴입니다. 다시 주문해 주세요.")

class Kiosk:
    def __init__(self):
        self.menu = menu
        self.price = price

    def menu_print(self):
        for i in range(len(self.menu)):
            print(i + 1, self.menu[i], ' : ', self.price[i], '원')

    def menu_select(self):
        self.order_menu = []
        self.order_price = []

        n = 0
        while n < 1 or len(menu) < n:
            n = int(input("음료를 번호를 입력하세요 : "))

            if 1 <= n & n <= len(menu):
                self.order_price.append(self.price[n-1])
                self.price_sum = self.price[n-1]
        
            else:  
                print("없는 메뉴입니다. 다시 주문해 주세요.")
                
        t = 0
        while t != 1 and t != 2:
            t= int(input("HOT 음료는 1을, ICE 음료는 2를 입력하세요 : "))
            if t == 1:
                self.temp = 'HOT'
            elif t == 2:
                self.temp = 'ICE' 
            else:    
                print("1과 2 중 하나를 입력하세요.\n")  

        self.order_menu.append(self.temp + ' ' + self.menu[n-1])
        print(self.temp, self.menu[n-1], ' : ', self.price[n-1], '원')

  
        while n != 0: 
            print()  # 줄 바꾸면서 
            n = int(input("추가 주문은 음료 번호를, 지불은 0을 누르세요 : "))
            if n > 0 and n < len(self.menu) + 1:  
                t = 0 
                while t != 1 and t != 2: 
                    t= int(input("HOT 음료는 1을, ICE 음료는 2를 입력하세요 : "))
                    if t == 1:
                        self.temp = 'HOT'
                    elif t == 2:
                        self.temp = 'ICE' 
                    else:    
                        print("1과 2 중 하나를 입력하세요.\n")
                self.order_price.append(self.price[n-1])          
                self.order_menu.append(self.temp + ' ' + self.menu[n-1])
                print('추가 주문 음료', self.temp, self.menu[n-1], ':', self.price[n-1], '원\n', '합계 : ', sum(self.order_price), '원')
            else :
                if n == 0 :
                    print("주문이 완료되었습니다.")
                    print(self.order_menu, self.order_price)
                else :
                    print("없는 메뉴입니다. 다시 주문해 주세요.")

    def pay(self):
        print(f'지불할 금액: {sum(self.order_price)}원')
        loop = True
        while loop:
            a = input('지불 수단 선택: 현금은 cash or 1, 카드는 card or 2를 입력해주세요')
            if a == 'cash' or a == '1':
                print('직원을 호출하겠습니다.' )
                loop = False
            elif a == 'card' or a == '2':
                print('IC칩 방향에 맞게 카드를 꽂아주세요.' )
                loop = False
            else:
                print('다시 결제를 시도해 주세요.')

    def table(self):
        print('⟝' + '-' * 30 + '⟞')
        for i in range(5):
            print('|' + ' ' * 31 + '|')
        for i in range(len(self.order_menu)):
            print(self.order_menu[i], ' : ', self.order_price[i])
        print('합계 금액 :', sum(price_temp))
        for i in range(5):
            print('|' + ' ' * 31+ '|')
        print('⟝' + '-' * 30 + '⟞')
